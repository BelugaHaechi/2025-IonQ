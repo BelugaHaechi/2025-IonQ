{
 "cells": [
  {
   "cell_type": "markdown",
   "metadata": {},
   "source": [
    "# iQuHACK 2025 ⟨😈⁴|🌲⟩\n",
    "\n",
    "This is a sandbox for ideas. "
   ]
  },
  {
   "cell_type": "markdown",
   "metadata": {},
   "source": [
    "## Challenge 1\n",
    "\n",
    "This is just the basic MaxCut problem. Quick review: \n",
    "- Graph $G = (V, E)$, where each $v \\in V$ is an employee, and each $e \\in E$ is relationship $(v_i, v_j)$ between two employees $v_i, v_j \\in V$\n",
    "- Partition of $V$ denoted as $S, T \\subset V$, disjoint\n",
    "- Objective: $\\max |C|$ where $C = \\{e \\in E | e = (v_i, v_j), \\ \n",
    "  v_i \\in A, v_j \\in B\\}$"
   ]
  },
  {
   "cell_type": "markdown",
   "metadata": {},
   "source": [
    "### Workflow\n",
    "\n",
    "#### Figure out how to really solve MaxCut with varQITE\n",
    "\n",
    "##### How to make the init ansatz (qcircuit)\n",
    "1330 - OK I'm already confused with what the build_ansatz thing does\n",
    "\n",
    "1340 - OK there is this useful .draw method that can draw nice graphs\n",
    "\n",
    "1340 - note that you can rerun everything using a diff init graph (which is actually the ansatz! think of qchem)\n",
    "\n",
    "1346 - OK build_ansatz really just makes an qcircuit from scratch based on the params for elements within\n",
    "\n",
    "##### How to understand the Hamiltonian\n",
    "1345 - OK im familiar with this-- we are really doing programming (not linear, but quadratic this time, how different could it be?) binary quadratic programming\n",
    "\n",
    "1346 - max cut edges, translate to math? consider v,w and if vw on same side, binary sum is 0+0=0 and 1+1=0, and diff side we get 0+1=1... ohh it's not strictly binary, fuck it's really 1+1-2×1×1=0 bruh\n",
    "\n",
    "1400 - now we turn this into H. how: objective $C: \\{0,1\\}^n \\mapsto \\mathbb R$\n",
    "$$H_C |x⟩ = C(x) |x⟩$$\n",
    "also $|x⟩$ is any one of the \"computational basis states\" with $n$ qubits\n",
    "in lawt lang, this just means $e_i$ and so on. (Note there are $2^n$ of these)"
   ]
  },
  {
   "cell_type": "markdown",
   "metadata": {},
   "source": [
    "1430 - plug in $|x⟩$, gets energy $C(x)$\n",
    "\n",
    "1432 - translate $x_i$ into $\\hat X_j$ which does the same thing but with QC\n",
    "\n",
    "1434 - plug in everything to get $H_M$, it looks like a blob but it's really just equivalent\n",
    "\n",
    "1458 - we call it \"Ising\" (thank you mr scientist)"
   ]
  },
  {
   "cell_type": "markdown",
   "metadata": {},
   "source": [
    "##### Now we have H! Minimize it with varQITE!\n",
    "1436 - but what is varQITE? oh damn\n",
    "\n",
    "1436 - at a glance: varQITE(params_in_qcircuit) -> varQITE(better_params_in_qc)\n",
    "\n",
    "1437 - better notation: $\\mathrm{varQITE}: c_1 ↦ c_2$\n",
    "\n",
    "1437 - expected value of circuit: $⟨c_1|H|c_1⟩ → ⟨c_2|H|c_2⟩$, minimize\n",
    "\n",
    "1444 - this is actually really cool, so what really happens in $\\mathrm{varQITE}$ is that there is this known (explicit) system of ODEs, parametrized by\n",
    "1. $∇c_i$ and\n",
    "2. $⟨c_i|O_?|c_i⟩$ for some? idk whatitis operators related to $H_M$ probably some features of it\n",
    "\n",
    "- the theory behind this is solid and sound, probably too advanced for us to understand, and this is where the legendary **imaginary time evolution** comes in!!!!!! Details in original paper\n",
    "- this process, I repeat, is good, bc it does NOT invoke an entire ~~classical optimizer~~, rather it's purely qcircuit (with minimal post-processing done classically but that's totally fine frfr)\n",
    "\n",
    "1455 - OK. NOW THE REAL GRIND IS COMING. THE CODEEEEEE"
   ]
  },
  {
   "cell_type": "markdown",
   "metadata": {},
   "source": [
    "##### Theory is in place, let's see the code for QITE\n",
    "\n",
    "1456 - core features: \n",
    "1. finite differences (bruh) to estimate $∇c_i$ ------ can't do analytically?\n",
    "2. then performs gradient descent (bruh) ------ conjugate gradient better?\n",
    "- ok maybe just forgive this bc it said it's \"simplified\"\n",
    "- CREDIT: IonQ × ORNL"
   ]
  },
  {
   "cell_type": "markdown",
   "metadata": {},
   "source": [
    "class QIT Evolver\n",
    "\n",
    "initialization\n",
    "- hamiltonian, $H_M$ as SparsePauliOp (get from `build_maxcut_hamiltonian`)\n",
    "- ansatz, container containing $c_i$ as QuantumCircuit (get from `build_ansatz`)\n",
    "1. init some trackers\n",
    "   1. backend, external method \"AerSimulator\" wtf that is\n",
    "   2. n_shots = 10000, MAX_ITERATIONS_ALLOWED_THEN_WE_EXPLODE\n",
    "   3. boooookkkkkeeeeping: \n",
    "      1. energies, $⟨|⟩$\n",
    "      2. param_vals, $c_i$\n",
    "      3. runtime, ?\n",
    "\n",
    "evolve\n",
    "// where the real sh!t comes in, ITERATE. \n",
    "- n_steps\n",
    "- lr = 0.4 ???\n",
    "- verbose, for debug\n",
    "\n",
    "curr_params = np.zeros(self.ansatz.num_parameters)\n",
    "\n",
    "// init with 00000000000000 ok $\\mathbf c_0 = \\mathbf 0$\n",
    "\n",
    "for loop that does this n_steps times **CORE ITERATION**\n",
    "1. get iteration circuits, the cool helper qcircuit that pushes $c_i$\n",
    "2. feed 1. into job backend, max 10000 **QUANTUM MAGIC**\n",
    "3. measure (also track time we took, time.time bruh)\n",
    "4. with measurements, feed into ODE system that we promised existed\n",
    "   1. get defining ode\n",
    "5. get $∆c_i$ from doing a weird regression with stuff from (4)\n",
    "6. update $c_{i+1} = c_i + 0.4 × ∆c_i$ ------ ok so this is the 0.4\n",
    "7. report what we have: measures, E, c_i, time...\n",
    "\n",
    "additional black boxes:\n",
    "- get defining ode, this is the theory-heavy magic with imaginary time and stuff\n",
    "- get iter circuits, helper qcircuits for optimization (not classic: approval)\n",
    "- plot convergence, this is useful, track minimization process\n",
    "- print status, end run stats, give in df\n",
    "- compute cut size, OUR METRIC FOR IFWEDIDTHEPROBLEMRIGHT\n",
    "- get ising energies, used in ode black box, also below: (so this does the braket stuff)\n",
    "- expected energy, does $⟨c_i|H_m|c_i⟩$ that we are interested in\n",
    "- interpret solution, GIVES EASY GRAPH FOR HOW WE ARE PARTITIONING THINGS"
   ]
  },
  {
   "cell_type": "markdown",
   "metadata": {},
   "source": [
    "1522 - Now we are set to sail. \n",
    "\n",
    "Virgin voyage: "
   ]
  },
  {
   "cell_type": "markdown",
   "metadata": {},
   "source": [
    "#### OK I guess I know what is happening now, turn on the QC"
   ]
  },
  {
   "cell_type": "markdown",
   "metadata": {},
   "source": [
    "## WARNINGS\n",
    "- DO NOT rename functions\n",
    "  - Keep **within** scope\n",
    "- DO NOT import external libraries\n",
    "  - You're supposed to use Qiskit\n",
    "  - Implement any needed algorithms locally\n",
    "- DO NOT solve classically\n",
    "\n",
    "## HOW TO WIINNNNNNN\n",
    "- Solution distribution should be correct in the first place\n",
    "- **Minimize: gate count**\n",
    "- Comply with reporting standards at the end\n",
    "  - 10 MB file limit\n",
    "  - https://forms.gle/tAjnUd7b5t3oX3b2A"
   ]
  },
  {
   "cell_type": "markdown",
   "metadata": {},
   "source": [
    "## Challenge 2\n",
    "\n",
    "Additional constraint: we need balanced people\n",
    "- $|A| = |B|$"
   ]
  },
  {
   "cell_type": "markdown",
   "metadata": {},
   "source": [
    "## Challenge 3\n",
    "\n",
    "Additional constraint to C1 (C2 not required): \n",
    "- Connectivity of the two subgraphs. \n",
    "  - Let $G = (A, F)$, where $\\forall (a_1, a_2) \\in A, \\exists (f_1, f_2, \\ldots, f_k)$ such that *ok I'm too lazy to define \"path\"*\n",
    "  "
   ]
  },
  {
   "cell_type": "markdown",
   "metadata": {},
   "source": [
    "## Challenge EX\n",
    "\n",
    "Educate others on the iQuHACK 2025-IonQ GitHub discussions page about this. Best post may win a prize lol. "
   ]
  }
 ],
 "metadata": {
  "language_info": {
   "name": "python"
  }
 },
 "nbformat": 4,
 "nbformat_minor": 2
}
