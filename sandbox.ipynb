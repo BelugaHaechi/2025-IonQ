{
 "cells": [
  {
   "cell_type": "markdown",
   "metadata": {},
   "source": [
    "# iQuHACK 2025 ⟨😈⁴|🌲⟩\n",
    "\n",
    "This is a sandbox for ideas. "
   ]
  },
  {
   "cell_type": "markdown",
   "metadata": {},
   "source": [
    "## Challenge 1\n",
    "\n",
    "This is just the basic MaxCut problem. Quick review: \n",
    "- Graph $T = (V, E)$, where each $v \\in V$ is an employee, and each $e \\in E$ is relationship $(v_1, v_2)$ between two employees $v_1, v_2 \\in V$\n",
    "- Partition of $V$ denoted as $A, B \\in V$, disjoint\n",
    "- Objective: $\\max |C|$ where $C = \\{e \\in E | e = (v_1, v_2), v_1 \\in A, v_2 \\in B\\}$"
   ]
  },
  {
   "cell_type": "markdown",
   "metadata": {},
   "source": [
    "## Challenge 2\n",
    "\n",
    "Additional constraint: we need balanced people\n",
    "- $|A| = |B|$"
   ]
  },
  {
   "cell_type": "markdown",
   "metadata": {},
   "source": [
    "## Challenge 3\n",
    "\n",
    "Additional constraint to C1 (C2 not required): \n",
    "- Connectivity of the two subgraphs. \n",
    "  - Let $G = (A, F)$, where $\\forall (a_1, a_2) \\in A, \\exists (f_1, f_2, \\ldots, f_k)$ such that *ok I'm too lazy to define \"path\"*\n",
    "  "
   ]
  },
  {
   "cell_type": "markdown",
   "metadata": {},
   "source": [
    "## Challenge EX\n",
    "\n",
    "Educate others on the iQuHACK 2025-IonQ GitHub discussions page about this. Best post may win a prize lol. "
   ]
  }
 ],
 "metadata": {
  "language_info": {
   "name": "python"
  }
 },
 "nbformat": 4,
 "nbformat_minor": 2
}
